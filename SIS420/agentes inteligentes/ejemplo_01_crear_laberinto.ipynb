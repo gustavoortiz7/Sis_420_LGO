{
 "cells": [
  {
   "cell_type": "code",
   "execution_count": 1,
   "id": "cb917cb7",
   "metadata": {},
   "outputs": [],
   "source": [
    "import random"
   ]
  },
  {
   "cell_type": "code",
   "execution_count": 2,
   "id": "6b67be03",
   "metadata": {},
   "outputs": [],
   "source": [
    "def gotoxy(x,y):\n",
    "    print (\"%c[%d;%df\" % (0x1B, y, x), end='')"
   ]
  },
  {
   "cell_type": "code",
   "execution_count": 3,
   "id": "f43f486c",
   "metadata": {},
   "outputs": [],
   "source": [
    "def crear_mapa_laberinto(numero_filas, numero_columnas, numero_paredes, numero_espacios):\n",
    "# Se crea un mapa lleno de paredes\n",
    "    mapa_laberinto = []\n",
    "    numero_paredes_generadas = 0\n",
    "    for fila in range(0, numero_filas):\n",
    "        fila_mapa_laberinto = []\n",
    "        for columna in range(0, numero_columnas):\n",
    "#             if (random.randrange(2) == 1 and numero_paredes_generadas < numero_paredes):\n",
    "#                 fila_mapa_laberinto.append('#')\n",
    "#                 numero_paredes_generadas += 1\n",
    "#             else:\n",
    "#                 fila_mapa_laberinto.append(' ')\n",
    "            fila_mapa_laberinto.append('#')\n",
    "        mapa_laberinto.append(fila_mapa_laberinto)\n",
    "        \n",
    "#Se ubica aleatoriamente un punto de inicio y a partir de ese punto se llenan espacios\n",
    "    numero_espacios_generados = 0\n",
    "    fila_posicion_actual = random.randrange(numero_filas)\n",
    "    columna_posicion_actual = random.randrange(numero_columnas)\n",
    "    mapa_laberinto[fila_posicion_actual][columna_posicion_actual] = ' '\n",
    "    numero_espacios_generados += 1\n",
    "\n",
    "    while numero_espacios_generados < numero_espacios:\n",
    "        direccion = random.randrange(4)\n",
    "        if direccion == 0 and fila_posicion_actual > 0:\n",
    "            fila_posicion_actual -= 1\n",
    "        elif direccion == 1 and fila_posicion_actual < numero_filas - 1:\n",
    "            fila_posicion_actual += 1\n",
    "        elif direccion == 2 and columna_posicion_actual > 0:\n",
    "            columna_posicion_actual -= 1\n",
    "        else:\n",
    "            if columna_posicion_actual < numero_columnas - 1:\n",
    "                columna_posicion_actual += 1\n",
    "            \n",
    "        if mapa_laberinto[fila_posicion_actual][columna_posicion_actual] == '#':\n",
    "            mapa_laberinto[fila_posicion_actual][columna_posicion_actual] = ' '\n",
    "            numero_espacios_generados += 1\n",
    "            \n",
    "    return mapa_laberinto"
   ]
  },
  {
   "cell_type": "code",
   "execution_count": 4,
   "id": "8f9cffaa",
   "metadata": {},
   "outputs": [
    {
     "name": "stdout",
     "output_type": "stream",
     "text": [
      "Introduzca el número de filas del laberinto: 20\n",
      "Introduzca el número de columnas del laberinto: 20\n",
      "Introduzca el número de paredes del laberinto: 200\n"
     ]
    }
   ],
   "source": [
    "numero_filas = int(input('Introduzca el número de filas del laberinto: '))\n",
    "numero_columnas = int(input('Introduzca el número de columnas del laberinto: '))\n",
    "numero_paredes = int(input('Introduzca el número de paredes del laberinto: '))\n",
    "numero_espacios = numero_filas * numero_columnas - numero_paredes"
   ]
  },
  {
   "cell_type": "code",
   "execution_count": 7,
   "id": "05147e6d",
   "metadata": {},
   "outputs": [
    {
     "name": "stdout",
     "output_type": "stream",
     "text": [
      "\u001b[0;0f#\u001b[1;0f#\u001b[2;0f#\u001b[3;0f#\u001b[4;0f#\u001b[5;0f#\u001b[6;0f#\u001b[7;0f#\u001b[8;0f#\u001b[9;0f#\u001b[10;0f#\u001b[11;0f#\u001b[12;0f#\u001b[13;0f#\u001b[14;0f#\u001b[15;0f#\u001b[16;0f#\u001b[17;0f#\u001b[18;0f#\u001b[19;0f#\n",
      "\u001b[0;1f#\u001b[1;1f#\u001b[2;1f#\u001b[3;1f#\u001b[4;1f#\u001b[5;1f#\u001b[6;1f#\u001b[7;1f#\u001b[8;1f#\u001b[9;1f#\u001b[10;1f#\u001b[11;1f#\u001b[12;1f#\u001b[13;1f#\u001b[14;1f#\u001b[15;1f#\u001b[16;1f#\u001b[17;1f#\u001b[18;1f#\u001b[19;1f#\n",
      "\u001b[0;2f#\u001b[1;2f#\u001b[2;2f#\u001b[3;2f#\u001b[4;2f#\u001b[5;2f#\u001b[6;2f#\u001b[7;2f#\u001b[8;2f#\u001b[9;2f#\u001b[10;2f#\u001b[11;2f#\u001b[12;2f#\u001b[13;2f#\u001b[14;2f#\u001b[15;2f#\u001b[16;2f#\u001b[17;2f#\u001b[18;2f#\u001b[19;2f#\n",
      "\u001b[0;3f#\u001b[1;3f#\u001b[2;3f#\u001b[3;3f#\u001b[4;3f#\u001b[5;3f#\u001b[6;3f#\u001b[7;3f#\u001b[8;3f#\u001b[9;3f#\u001b[10;3f#\u001b[11;3f#\u001b[12;3f#\u001b[13;3f#\u001b[14;3f#\u001b[15;3f#\u001b[16;3f#\u001b[17;3f#\u001b[18;3f#\u001b[19;3f#\n",
      "\u001b[0;4f#\u001b[1;4f#\u001b[2;4f#\u001b[3;4f#\u001b[4;4f#\u001b[5;4f#\u001b[6;4f#\u001b[7;4f#\u001b[8;4f#\u001b[9;4f#\u001b[10;4f#\u001b[11;4f#\u001b[12;4f#\u001b[13;4f#\u001b[14;4f#\u001b[15;4f#\u001b[16;4f#\u001b[17;4f#\u001b[18;4f#\u001b[19;4f#\n",
      "\u001b[0;5f#\u001b[1;5f#\u001b[2;5f#\u001b[3;5f#\u001b[4;5f#\u001b[5;5f#\u001b[6;5f#\u001b[7;5f#\u001b[8;5f#\u001b[9;5f#\u001b[10;5f#\u001b[11;5f#\u001b[12;5f#\u001b[13;5f#\u001b[14;5f#\u001b[15;5f#\u001b[16;5f#\u001b[17;5f#\u001b[18;5f#\u001b[19;5f#\n",
      "\u001b[0;6f#\u001b[1;6f#\u001b[2;6f#\u001b[3;6f#\u001b[4;6f#\u001b[5;6f#\u001b[6;6f#\u001b[7;6f#\u001b[8;6f#\u001b[9;6f#\u001b[10;6f#\u001b[11;6f#\u001b[12;6f#\u001b[13;6f#\u001b[14;6f#\u001b[15;6f#\u001b[16;6f#\u001b[17;6f#\u001b[18;6f#\u001b[19;6f#\n",
      "\u001b[0;7f#\u001b[1;7f \u001b[2;7f#\u001b[3;7f#\u001b[4;7f#\u001b[5;7f#\u001b[6;7f#\u001b[7;7f#\u001b[8;7f#\u001b[9;7f#\u001b[10;7f#\u001b[11;7f#\u001b[12;7f#\u001b[13;7f#\u001b[14;7f#\u001b[15;7f#\u001b[16;7f#\u001b[17;7f#\u001b[18;7f#\u001b[19;7f#\n",
      "\u001b[0;8f#\u001b[1;8f \u001b[2;8f \u001b[3;8f \u001b[4;8f \u001b[5;8f \u001b[6;8f#\u001b[7;8f \u001b[8;8f \u001b[9;8f#\u001b[10;8f#\u001b[11;8f#\u001b[12;8f#\u001b[13;8f#\u001b[14;8f#\u001b[15;8f#\u001b[16;8f#\u001b[17;8f#\u001b[18;8f#\u001b[19;8f#\n",
      "\u001b[0;9f \u001b[1;9f \u001b[2;9f \u001b[3;9f \u001b[4;9f \u001b[5;9f \u001b[6;9f \u001b[7;9f \u001b[8;9f \u001b[9;9f#\u001b[10;9f#\u001b[11;9f#\u001b[12;9f \u001b[13;9f#\u001b[14;9f#\u001b[15;9f#\u001b[16;9f#\u001b[17;9f \u001b[18;9f \u001b[19;9f \n",
      "\u001b[0;10f \u001b[1;10f \u001b[2;10f \u001b[3;10f \u001b[4;10f \u001b[5;10f \u001b[6;10f \u001b[7;10f \u001b[8;10f#\u001b[9;10f#\u001b[10;10f \u001b[11;10f#\u001b[12;10f \u001b[13;10f#\u001b[14;10f#\u001b[15;10f#\u001b[16;10f#\u001b[17;10f \u001b[18;10f \u001b[19;10f \n",
      "\u001b[0;11f \u001b[1;11f \u001b[2;11f \u001b[3;11f \u001b[4;11f \u001b[5;11f \u001b[6;11f \u001b[7;11f \u001b[8;11f#\u001b[9;11f \u001b[10;11f \u001b[11;11f \u001b[12;11f \u001b[13;11f \u001b[14;11f \u001b[15;11f \u001b[16;11f \u001b[17;11f \u001b[18;11f \u001b[19;11f \n",
      "\u001b[0;12f \u001b[1;12f \u001b[2;12f \u001b[3;12f \u001b[4;12f \u001b[5;12f \u001b[6;12f \u001b[7;12f \u001b[8;12f \u001b[9;12f \u001b[10;12f \u001b[11;12f \u001b[12;12f \u001b[13;12f \u001b[14;12f \u001b[15;12f \u001b[16;12f#\u001b[17;12f#\u001b[18;12f#\u001b[19;12f \n",
      "\u001b[0;13f \u001b[1;13f \u001b[2;13f \u001b[3;13f \u001b[4;13f \u001b[5;13f \u001b[6;13f \u001b[7;13f \u001b[8;13f \u001b[9;13f \u001b[10;13f \u001b[11;13f \u001b[12;13f \u001b[13;13f \u001b[14;13f \u001b[15;13f \u001b[16;13f \u001b[17;13f \u001b[18;13f \u001b[19;13f \n",
      "\u001b[0;14f \u001b[1;14f \u001b[2;14f \u001b[3;14f \u001b[4;14f \u001b[5;14f \u001b[6;14f \u001b[7;14f \u001b[8;14f \u001b[9;14f \u001b[10;14f \u001b[11;14f \u001b[12;14f \u001b[13;14f \u001b[14;14f \u001b[15;14f \u001b[16;14f \u001b[17;14f \u001b[18;14f \u001b[19;14f \n",
      "\u001b[0;15f \u001b[1;15f \u001b[2;15f \u001b[3;15f \u001b[4;15f \u001b[5;15f \u001b[6;15f \u001b[7;15f \u001b[8;15f \u001b[9;15f \u001b[10;15f \u001b[11;15f \u001b[12;15f \u001b[13;15f \u001b[14;15f \u001b[15;15f \u001b[16;15f \u001b[17;15f \u001b[18;15f \u001b[19;15f \n",
      "\u001b[0;16f \u001b[1;16f \u001b[2;16f \u001b[3;16f \u001b[4;16f \u001b[5;16f \u001b[6;16f \u001b[7;16f \u001b[8;16f \u001b[9;16f \u001b[10;16f \u001b[11;16f \u001b[12;16f \u001b[13;16f \u001b[14;16f#\u001b[15;16f \u001b[16;16f \u001b[17;16f \u001b[18;16f \u001b[19;16f \n",
      "\u001b[0;17f \u001b[1;17f \u001b[2;17f \u001b[3;17f \u001b[4;17f \u001b[5;17f \u001b[6;17f \u001b[7;17f \u001b[8;17f \u001b[9;17f \u001b[10;17f \u001b[11;17f \u001b[12;17f \u001b[13;17f \u001b[14;17f \u001b[15;17f \u001b[16;17f \u001b[17;17f \u001b[18;17f \u001b[19;17f \n",
      "\u001b[0;18f \u001b[1;18f \u001b[2;18f \u001b[3;18f \u001b[4;18f \u001b[5;18f \u001b[6;18f \u001b[7;18f \u001b[8;18f \u001b[9;18f \u001b[10;18f \u001b[11;18f \u001b[12;18f#\u001b[13;18f#\u001b[14;18f \u001b[15;18f \u001b[16;18f \u001b[17;18f \u001b[18;18f \u001b[19;18f \n",
      "\u001b[0;19f#\u001b[1;19f \u001b[2;19f \u001b[3;19f \u001b[4;19f \u001b[5;19f \u001b[6;19f \u001b[7;19f#\u001b[8;19f#\u001b[9;19f#\u001b[10;19f#\u001b[11;19f#\u001b[12;19f#\u001b[13;19f \u001b[14;19f \u001b[15;19f \u001b[16;19f \u001b[17;19f \u001b[18;19f \u001b[19;19f \n"
     ]
    }
   ],
   "source": [
    "laberinto = crear_mapa_laberinto(numero_filas, numero_columnas, numero_paredes, numero_espacios)\n",
    "\n",
    "# for fila_mapa_laberinto in laberinto:\n",
    "#     print(fila_mapa_laberinto)\n",
    "    \n",
    "for f, fila in enumerate(laberinto):\n",
    "    for c, celda in enumerate(fila):\n",
    "        gotoxy(f, c)\n",
    "        print(celda, end='')\n",
    "    print()"
   ]
  }
 ],
 "metadata": {
  "kernelspec": {
   "display_name": "Python 3 (ipykernel)",
   "language": "python",
   "name": "python3"
  },
  "language_info": {
   "codemirror_mode": {
    "name": "ipython",
    "version": 3
   },
   "file_extension": ".py",
   "mimetype": "text/x-python",
   "name": "python",
   "nbconvert_exporter": "python",
   "pygments_lexer": "ipython3",
   "version": "3.9.12"
  }
 },
 "nbformat": 4,
 "nbformat_minor": 5
}
