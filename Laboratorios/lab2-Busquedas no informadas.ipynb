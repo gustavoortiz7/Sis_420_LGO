{
 "cells": [
  {
   "cell_type": "code",
   "execution_count": 28,
   "id": "d0e4e268",
   "metadata": {},
   "outputs": [],
   "source": [
    "# datos = estado\n",
    "class Nodo:\n",
    "    def __init__(self, datos, hijo=None):\n",
    "        self.datos = datos\n",
    "        self.hijos = []\n",
    "        self.padre = None\n",
    "        self.costo = None\n",
    "        self.set_hijo(hijo)\n",
    "        \n",
    "    def set_hijo(self, hijo):\n",
    "        if (hijo is not None):\n",
    "            self.hijos.append(hijo)\n",
    "            if self.hijos is not None:\n",
    "                for h in self.hijos:\n",
    "                    h.padre = self\n",
    "                \n",
    "    def get_hijos(self):\n",
    "        return self.hijos\n",
    "    \n",
    "    def set_padre(self, padre):\n",
    "        self.padre = padre\n",
    "        \n",
    "    def get_padre(self):\n",
    "        return self.padre\n",
    "\n",
    "    def set_datos(self, datos):\n",
    "        self.datos = datos\n",
    "    \n",
    "    def get_datos(self):\n",
    "        return self.datos\n",
    "    \n",
    "    def set_costo(self, costo):\n",
    "        self.costo = costo\n",
    "        \n",
    "    def get_costo(self):\n",
    "        return self.costo\n",
    "    \n",
    "    def equal(self, nodo):\n",
    "        if self.get_datos() == nodo.get_datos():\n",
    "            return True\n",
    "        else:\n",
    "            return False\n",
    "    \n",
    "    def en_lista(self, lista_nodos):\n",
    "        enlistado = False\n",
    "        for n in lista_nodos:\n",
    "            if self.equal(n):\n",
    "                enlistado = True\n",
    "        return enlistado\n",
    "    \n",
    "    def __str__(self):\n",
    "        return str(self.get_datos())"
   ]
  },
  {
   "cell_type": "code",
   "execution_count": 29,
   "id": "a679e621",
   "metadata": {},
   "outputs": [],
   "source": [
    "def bpa(estado_inicio, estado_solucion):\n",
    "    resuelto = False\n",
    "    nodos_visitados = []\n",
    "    nodos_frontera = []\n",
    "    nodo_inicio = Nodo(estado_inicio)\n",
    "    nodos_frontera.append(nodo_inicio)\n",
    "    \n",
    "    while resuelto == False and len(nodos_frontera) != 0:\n",
    "        nodo_actual = nodos_frontera.pop(0)\n",
    "        nodos_visitados.append(nodo_actual)\n",
    "        if nodo_actual.get_datos() == estado_solucion:\n",
    "            resuelto = True\n",
    "            return nodo_actual\n",
    "        else:\n",
    "            for i in range (0, 6):\n",
    "                hijo1_datos = nodo_actual.get_datos().copy()\n",
    "                temp = hijo1_datos[i]\n",
    "                hijo1_datos[i] = hijo1_datos[i+1]\n",
    "                hijo1_datos[i+1] = temp\n",
    "                hijo1 = Nodo(hijo1_datos)\n",
    "            \n",
    "                if not hijo1.en_lista(nodos_visitados) and not hijo1.en_lista(nodos_frontera):\n",
    "                    nodo_actual.set_hijo(hijo1)\n",
    "                    nodos_frontera.append(hijo1)\n",
    "                        "
   ]
  },
  {
   "cell_type": "code",
   "execution_count": 30,
   "id": "ae74c57e",
   "metadata": {},
   "outputs": [
    {
     "name": "stdout",
     "output_type": "stream",
     "text": [
      "[[7, 6, 5, 4, 3, 2, 1], [6, 7, 5, 4, 3, 2, 1], [6, 5, 7, 4, 3, 2, 1], [5, 6, 7, 4, 3, 2, 1], [5, 6, 4, 7, 3, 2, 1], [5, 4, 6, 7, 3, 2, 1], [4, 5, 6, 7, 3, 2, 1], [4, 5, 6, 3, 7, 2, 1], [4, 5, 3, 6, 7, 2, 1], [4, 3, 5, 6, 7, 2, 1], [3, 4, 5, 6, 7, 2, 1], [3, 4, 5, 6, 2, 7, 1], [3, 4, 5, 2, 6, 7, 1], [3, 4, 2, 5, 6, 7, 1], [3, 2, 4, 5, 6, 7, 1], [2, 3, 4, 5, 6, 7, 1], [2, 3, 4, 5, 6, 1, 7], [2, 3, 4, 5, 1, 6, 7], [2, 3, 4, 1, 5, 6, 7], [2, 3, 1, 4, 5, 6, 7], [2, 1, 3, 4, 5, 6, 7], [1, 2, 3, 4, 5, 6, 7]]\n"
     ]
    }
   ],
   "source": [
    "if __name__ == \"__main__\":\n",
    "    estado_inicial = [7,6,5,4, 3, 2, 1]\n",
    "    solucion = [1, 2, 3, 4,5,6,7]\n",
    "    nodo_solucion = bpa(estado_inicial, solucion)\n",
    "\n",
    "    # mostrar resultado\n",
    "    resultado = []\n",
    "    nodo_actual = nodo_solucion\n",
    "    while nodo_actual.get_padre() is not None:\n",
    "        resultado.append(nodo_actual.get_datos())\n",
    "        nodo_actual = nodo_actual.get_padre()\n",
    "\n",
    "    resultado.append(estado_inicial)\n",
    "    resultado.reverse()\n",
    "    print(resultado)\n",
    "\n",
    "    #si hacemos la prueba con 10 digitos colapsaria mi pc,\n",
    "    #por que no alcanza mi memoria para hacer todos esos iteraciones o nodos hijos para encontrar la solucion,\n",
    "    #al hacer la prueba con 8 digitos si puede alconzar el resultado pero tardaria muchas horas en resolverlo, \n",
    "    #la prueba con 7 digitos nos muestra la solucion en 50 segundos \n",
    "    #la solucion para hacer de 10 digitos y que se rapido seria hacer con otro tipo de busqueda (busquedas informadas)"
   ]
  },
  {
   "cell_type": "code",
   "execution_count": null,
   "id": "dbe6be16",
   "metadata": {},
   "outputs": [],
   "source": []
  }
 ],
 "metadata": {
  "kernelspec": {
   "display_name": "Python 3.9.5 64-bit",
   "language": "python",
   "name": "python3"
  },
  "language_info": {
   "codemirror_mode": {
    "name": "ipython",
    "version": 3
   },
   "file_extension": ".py",
   "mimetype": "text/x-python",
   "name": "python",
   "nbconvert_exporter": "python",
   "pygments_lexer": "ipython3",
   "version": "3.9.5"
  },
  "vscode": {
   "interpreter": {
    "hash": "c347c8f9a7ef94e4c9e03b4513be7835ed18f45b99a2a817fb579f408b867b16"
   }
  }
 },
 "nbformat": 4,
 "nbformat_minor": 5
}
