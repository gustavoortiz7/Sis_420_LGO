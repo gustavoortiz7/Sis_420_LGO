{
  "cells": [
    {
      "cell_type": "markdown",
      "metadata": {
        "id": "QZwBdcYuGyDr"
      },
      "source": [
        "# Ejercicio de programación Regresión Lineal"
      ]
    },
    {
      "cell_type": "code",
      "execution_count": 16,
      "metadata": {
        "colab": {
          "base_uri": "https://localhost:8080/"
        },
        "id": "2yR5F50fGyD2",
        "outputId": "84c0b282-a09b-4e62-ffcf-03d19315496c"
      },
      "outputs": [
        {
          "output_type": "stream",
          "name": "stdout",
          "text": [
            "Drive already mounted at /content/gdrive; to attempt to forcibly remount, call drive.mount(\"/content/gdrive\", force_remount=True).\n"
          ]
        }
      ],
      "source": [
        "# utilizado para manejos de directorios y rutas\n",
        "import os\n",
        "\n",
        "# Computacion vectorial y cientifica para python\n",
        "import numpy as np\n",
        "\n",
        "# Librerias para graficación (trazado de gráficos)\n",
        "from matplotlib import pyplot\n",
        "from mpl_toolkits.mplot3d import Axes3D  # Necesario para graficar superficies 3D\n",
        "\n",
        "# llama a matplotlib a embeber graficas dentro de los cuadernillos\n",
        "\n",
        "%matplotlib inline\n",
        "from google.colab import drive\n",
        "drive.mount(\"/content/gdrive\")"
      ]
    },
    {
      "cell_type": "markdown",
      "metadata": {
        "id": "DQ_N1iLaGyD6"
      },
      "source": [
        "## 1 Regresión lineal con una variable\n",
        "\n",
        "El archivo `Datasets/ex1data1.txt` contiene el dataset para el problema de regresion lineal. La primera columna es la problacion de una ciudad (en 10,000s) y la segunda columna es el beneficio que genera un camion de comida en esa ciudad (en $10,000s). Un valor negativo indica una perdida. "
      ]
    },
    {
      "cell_type": "code",
      "execution_count": 17,
      "metadata": {
        "colab": {
          "base_uri": "https://localhost:8080/"
        },
        "id": "SDrRQC2HGyD8",
        "outputId": "e69b29f7-7d61-4e5b-f349-04e8e1126a96"
      },
      "outputs": [
        {
          "output_type": "stream",
          "name": "stdout",
          "text": [
            "Los Valore cambiados\n"
          ]
        }
      ],
      "source": [
        "# Leer datos separados por una coma\n",
        "import pandas as pd\n",
        "import numpy\n",
        "filename = '/content/gdrive/MyDrive/Colab Notebooks/SIS420/DataSet/House_Price_Multan_Modificado.csv'\n",
        "\n",
        "raw_data = open(filename)\n",
        "data = numpy.loadtxt(filename, delimiter=\",\", skiprows=1)\n",
        "df= pd.DataFrame(data)\n",
        "#display(df)\n",
        "first_column=df.pop(2)\n",
        "df.insert(5, 2, first_column)\n",
        "print(\"Los Valore cambiados\")\n",
        "#display(df)\n",
        "\n",
        "datos=pd.DataFrame(df)\n",
        "\n",
        "dat=datos.to_numpy()\n",
        "X, y = dat[:,:5], dat[:,5].ravel()\n",
        "m = y.size"
      ]
    },
    {
      "cell_type": "code",
      "execution_count": 18,
      "metadata": {
        "colab": {
          "base_uri": "https://localhost:8080/"
        },
        "id": "-87uBEB_GyD9",
        "outputId": "1697ada7-892e-4e36-dc75-77239ef0d784"
      },
      "outputs": [
        {
          "output_type": "stream",
          "name": "stdout",
          "text": [
            "[[  1.  10.   6.   6.  10.]\n",
            " [  2.  20.   5.   6.  10.]\n",
            " [  4.  30.   3.   4.   1.]\n",
            " ...\n",
            " [ 13.  10.   5.   6.   1.]\n",
            " [ 21. 140.   2.   3.   5.]\n",
            " [ 14.  40.   5.   7.   5.]]\n",
            "[2.   2.6  5.75 ... 3.   1.15 1.35]\n",
            "1003\n"
          ]
        }
      ],
      "source": [
        "print(X)\n",
        "print(y)\n",
        "print(m)"
      ]
    },
    {
      "cell_type": "markdown",
      "metadata": {
        "id": "Ffcwgif_GyEA"
      },
      "source": [
        "### 1.1 Trazar los datos"
      ]
    },
    {
      "cell_type": "code",
      "execution_count": 19,
      "metadata": {
        "id": "XQul7Q9_GyEB"
      },
      "outputs": [],
      "source": [
        "def plotData(x, y):\n",
        "    #Grafica los puntos x e y en una figura nueva. \n",
        "    \n",
        "    fig = pyplot.figure()  # abre una nueva figura\n",
        "    \n",
        "    pyplot.plot(x, y, 'ro', ms=10, mec='k')\n",
        "    pyplot.ylabel('precio en millones')\n",
        "    pyplot.xlabel('ubicacion de una ciudad en 10,000s')\n"
      ]
    },
    {
      "cell_type": "code",
      "execution_count": 20,
      "metadata": {
        "colab": {
          "base_uri": "https://localhost:8080/",
          "height": 279
        },
        "id": "_5wCFtF0GyEC",
        "outputId": "f5064909-c022-444d-d061-8650bd5f201c"
      },
      "outputs": [
        {
          "output_type": "display_data",
          "data": {
            "text/plain": [
              "<Figure size 432x288 with 1 Axes>"
            ],
            "image/png": "[encoded data removed]"
          },
          "metadata": {
            "needs_background": "light"
          }
        }
      ],
      "source": [
        "plotData(X, y)"
      ]
    },
    {
      "cell_type": "code",
      "execution_count": 6,
      "metadata": {
        "id": "nG7k-cz0GyED"
      },
      "outputs": [],
      "source": []
    },
    {
      "cell_type": "markdown",
      "metadata": {
        "id": "wnUpOgD3GyEH"
      },
      "source": [
        "# <a id=\"section2\"></a>\n",
        "### 1.2 Descenso por el gradiente\n",
        "\n",
        "#### 1.2.1 Ecuaciones de actualización\n",
        "\n",
        "El objetivo de la regresion lineal es minimizar la funcion de costo\n",
        "\n",
        "$$ J(\\theta) = \\frac{1}{2m} \\sum_{i=1}^m \\left( h_{\\theta}(x^{(i)}) - y^{(i)}\\right)^2$$\n",
        "\n",
        "donde la hipotesis $h_\\theta(x)$ esta dada por el modelo lineal\n",
        "$$ h_\\theta(x) = \\theta^Tx = \\theta_0 + \\theta_1 x_1$$\n",
        "\n",
        "Los parametros del modelo son los valores $\\theta_j$. Estos son los valores que se ajustaran al costo minimo $J(\\theta)$. Un camino para lograr esto es usar el algoritmo por lotes del descenso por el gradiente. En el descenso por el gradiente por lotes, cada iteracion ejecuta una actualizacion \n",
        "$$ \\theta_j = \\theta_j - \\alpha \\frac{1}{m} \\sum_{i=1}^m \\left( h_\\theta(x^{(i)}) - y^{(i)}\\right)x_j^{(i)} \\qquad \\text{actualizacion simultanea } \\theta_j \\text{ for all } j$$\n",
        "\n",
        "Con cada paso del descenso por el gradiente, los parametros $\\theta_j$ son mas cercanos a los valores optimos que permitiran lograr el costo mas bajo J($\\theta$).\n",
        "\n",
        "#### 1.2.2 Implementación"
      ]
    },
    {
      "cell_type": "code",
      "execution_count": 21,
      "metadata": {
        "id": "JrvZlVhPGyEI"
      },
      "outputs": [],
      "source": [
        "# Agrega una columna de unos a X. La funcion stack de numpy une matrices a lo largo de un eje dado.\n",
        "# El primer eje (eje = 0) se refiere a filas (ejemplos de entrenamiento)\n",
        "# y el segundo eje (eje = 1) se refiere a columnas (características).\n",
        "\n",
        "X = np.concatenate([np.ones((m, 1)), X], axis=1)"
      ]
    },
    {
      "cell_type": "code",
      "execution_count": 8,
      "metadata": {
        "colab": {
          "base_uri": "https://localhost:8080/"
        },
        "id": "abk5oqrTGyEJ",
        "outputId": "526570cb-7a2e-47d8-ed2d-b894186ebaad"
      },
      "outputs": [
        {
          "output_type": "stream",
          "name": "stdout",
          "text": [
            "[[  1.   1.  10.   6.   6.  10.]\n",
            " [  1.   2.  20.   5.   6.  10.]\n",
            " [  1.   4.  30.   3.   4.   1.]\n",
            " ...\n",
            " [  1.  13.  10.   5.   6.   1.]\n",
            " [  1.  21. 140.   2.   3.   5.]\n",
            " [  1.  14.  40.   5.   7.   5.]]\n"
          ]
        }
      ],
      "source": [
        "print(X)"
      ]
    },
    {
      "cell_type": "markdown",
      "metadata": {
        "id": "KqXREbpBGyEK"
      },
      "source": [
        "<a id=\"section2\"></a>\n",
        "#### 1.2.3 Cálculo del costo $J(\\theta)$"
      ]
    },
    {
      "cell_type": "code",
      "execution_count": 22,
      "metadata": {
        "id": "8S5OsvfiGyEL"
      },
      "outputs": [],
      "source": [
        "def computeCost(X, y, theta):\n",
        "    # inicializa algunos valores importantes\n",
        "    m = y.size  # numero de ejemplos de entrenamiento\n",
        "   \n",
        "    J = 0\n",
        "    h = np.dot(X, theta)\n",
        "    J = (1/(2 * m)) * np.sum(np.square(np.dot(X, theta) - y))\n",
        "    return J"
      ]
    },
    {
      "cell_type": "markdown",
      "metadata": {
        "id": "5j1Vk_fNGyEM"
      },
      "source": [
        "Ejemplo de funcionamiento de la funcion computeCoste con dos valores diferentes de $\\theta$. "
      ]
    },
    {
      "cell_type": "code",
      "execution_count": 32,
      "metadata": {
        "colab": {
          "base_uri": "https://localhost:8080/"
        },
        "id": "oTsuzqtoGyEN",
        "outputId": "90b317fc-9a45-46ce-9ec9-71395ae09c87"
      },
      "outputs": [
        {
          "output_type": "stream",
          "name": "stdout",
          "text": [
            "Con theta = [0,0,0,0,0,0] \n",
            " Costo calculado = 95.32\n",
            "Valor de costo esperado (aproximadamente) 32.07\n",
            "\n",
            "Con theta = [-1, 5]\n",
            " Costo calculado = 95.32\n",
            "Valor de costo esperado (aproximadamente)  54.24\n"
          ]
        }
      ],
      "source": [
        "J = computeCost(X, y, theta=np.array([0.001,0.1,0,0,0.0,0]))\n",
        "print('Con theta = [0,0,0,0,0,0] \\n Costo calculado = %.2f' % J)\n",
        "print('Valor de costo esperado (aproximadamente) 32.07\\n')\n",
        "\n",
        "# pruebas adicionales de la función de costes\n",
        "J = computeCost(X, y, theta=np.array([0.001,0.1,0,0,0.0,0]))\n",
        "print('Con theta = [-1, 5]\\n Costo calculado = %.2f' % J)\n",
        "print('Valor de costo esperado (aproximadamente)  54.24')"
      ]
    },
    {
      "cell_type": "markdown",
      "metadata": {
        "id": "d72Jj6DUGyEP"
      },
      "source": [
        "<a id=\"section3\"></a>\n",
        "#### 1.2.4 Descenso por el gradiente\n",
        "\n",
        "El costo $J(\\theta)$ esta parametrizado por el vector $\\theta$, no $X$ y $y$. Donde hay que minimizar el valor de $J(\\theta)$ cambiando los valores del vector $\\theta$. Una buena manera de verificar si el descenso por el gradiente esta trabajando correctamente es ver los valores de $J(\\theta)$ y verificar si estos decresen en cada paso. \n",
        "\n",
        "<div class=\"alert alert-box alert-warning\">\n",
        "**Vectores y matrices en `numpy`** - Importantes notas para implementación\n",
        "Un vector en `numpy` es un array de una diemension, por ejemplo `np.array([1, 2, 3])` es un vector. Una matriz en `numpy` is un arreglo de dos dimensiones, por ejemplo  `np.array([[1, 2, 3], [4, 5, 6]])`. Sin embargo, lo siguiente todavía se considera una matriz `np.array ([[1, 2, 3]])` ya que tiene dos dimensiones, incluso si tiene una forma de 1x3 (que parece un vector)."
      ]
    },
    {
      "cell_type": "code",
      "execution_count": 33,
      "metadata": {
        "id": "UHhBTIJ3GyEP"
      },
      "outputs": [],
      "source": [
        "def gradientDescent(X, y, theta, alpha, num_iters):\n",
        "        # Inicializa algunos valores importantes\n",
        "    m = y.shape[0]  # numero de ejemplos de entrenamiento\n",
        "    \n",
        "    # hace una copia de theta, para evitar cambiar la matriz original, \n",
        "    # ya que las matrices numpy se pasan por referencia a las funciones\n",
        "\n",
        "    theta = theta.copy()\n",
        "    \n",
        "    J_history = [] # Lista que se utiliza para almacenar el costo en cada iteración\n",
        "    \n",
        "    for i in range(num_iters):\n",
        "        theta = theta - (alpha / m) * (np.dot(X, theta) - y).dot(X)\n",
        "        # save the cost J in every iteration\n",
        "        J_history.append(computeCost(X, y, theta))\n",
        "    \n",
        "    return theta, J_history"
      ]
    },
    {
      "cell_type": "markdown",
      "metadata": {
        "id": "C-g4Ej-eGyER"
      },
      "source": [
        "Se inicializan los parametros $\\theta$ con 0 y la taza de aprendizaje $\\alpha$ con 0.01."
      ]
    },
    {
      "cell_type": "code",
      "execution_count": 40,
      "metadata": {
        "colab": {
          "base_uri": "https://localhost:8080/"
        },
        "id": "-N2TifmRGyES",
        "outputId": "bac36856-ffcf-47ac-e934-08b2de11826e"
      },
      "outputs": [
        {
          "output_type": "stream",
          "name": "stdout",
          "text": [
            "85.10453786699539\n",
            "Theta encontrada por descenso gradiente: 2.6193, 0.1410, 0.0277, -0.0098, 0.1242, -0.2919\n",
            "Valores theta esperados (aproximadamente): [-3.6303, 1.1664]\n"
          ]
        }
      ],
      "source": [
        "# inicializa los parametros de ajuste\n",
        "theta = np.zeros(6)\n",
        "\n",
        "# configuraciones para el descenso por el gradiente\n",
        "iterations = 1500000\n",
        "alpha = 0.0001\n",
        "\n",
        "theta, J_history = gradientDescent(X ,y, theta, alpha, iterations)\n",
        "print(J_history[-1])\n",
        "print('Theta encontrada por descenso gradiente: {:.4f}, {:.4f}, {:.4f}, {:.4f}, {:.4f}, {:.4f}'.format(*theta))\n",
        "print('Valores theta esperados (aproximadamente): [-3.6303, 1.1664]')"
      ]
    },
    {
      "cell_type": "markdown",
      "metadata": {
        "id": "2PsfyeVxGyET"
      },
      "source": [
        "Se utilizan los parametros finales para grafical la linea."
      ]
    },
    {
      "cell_type": "code",
      "execution_count": 41,
      "metadata": {
        "colab": {
          "base_uri": "https://localhost:8080/",
          "height": 279
        },
        "id": "X6yscr4GGyET",
        "outputId": "2eb71b16-6817-45de-fd9b-22e7df4b2398"
      },
      "outputs": [
        {
          "output_type": "display_data",
          "data": {
            "text/plain": [
              "<Figure size 432x288 with 1 Axes>"
            ],
            "image/png": "[encoded data removed]"
          },
          "metadata": {
            "needs_background": "light"
          }
        }
      ],
      "source": [
        "# grafica la linea de ajuste\n",
        "plotData(X[:, 1], y)\n",
        "pyplot.plot(X[:, 1], np.dot(X, theta), '-')\n",
        "pyplot.legend(['Datos de entrenamiento', 'Regresión linear']);"
      ]
    },
    {
      "cell_type": "markdown",
      "metadata": {
        "id": "QAXAQb7DGyEW"
      },
      "source": [
        "Los valores finales de $\\theta$ se utilizaran para realizar predicciones."
      ]
    },
    {
      "cell_type": "code",
      "execution_count": 44,
      "metadata": {
        "colab": {
          "base_uri": "https://localhost:8080/"
        },
        "id": "7PUwHrfeGyEX",
        "outputId": "a36ab623-64f9-4e65-ddb9-7e0c7f9b2e55"
      },
      "outputs": [
        {
          "output_type": "stream",
          "name": "stdout",
          "text": [
            "Para una población = 35,000, se predice un beneficio de 8.04\n",
            "\n",
            "Para una población de = 70,000, se predice un beneficio de 10.81\n",
            "\n"
          ]
        }
      ],
      "source": [
        "# Predecir valores de beneficio para poblaciones de 35,000 y 70,000\n",
        "predict1 = np.dot([1, 1,10, 6,6,10], theta)\n",
        "print('Para una población = 35,000, se predice un beneficio de {:.2f}\\n'.format(predict1*10))\n",
        "\n",
        "predict2 = np.dot([1, 1,20, 6,6,10], theta)\n",
        "print('Para una población de = 70,000, se predice un beneficio de {:.2f}\\n'.format(predict2*10))"
      ]
    },
    {
      "cell_type": "markdown",
      "metadata": {
        "id": "6PGo-FupGyEY"
      },
      "source": [
        "### 1.4 Visualizar $J(\\theta)$\n",
        "\n",
        "Para comprender mejor la función de costo $J(\\theta)$, se graficará la funcion de costo en 2 dimenciones con los valores de $\\theta_0$ y $\\theta_1$. \n",
        "\n",
        "El proposito de graficar el costo para observar como $J(\\theta)$ varia con cambios en $\\theta_0$ y $\\theta_1$. La función de costo  $J(\\theta)$ tiene forma de una cuenca con un minimo global. (Esto es mas facil observar en los contornos de una superficie 3D). El minimo es el punto optimo para $\\theta_0$ y $\\theta_1$, en cada paso del descenso por el gradiente se mueve mas cerca a este punto."
      ]
    },
    {
      "cell_type": "code",
      "execution_count": 50,
      "metadata": {
        "colab": {
          "base_uri": "https://localhost:8080/",
          "height": 130
        },
        "id": "ZbGCHCrGGyEZ",
        "outputId": "5f6eaf90-2a49-4e45-ee24-341d7ee9802b"
      },
      "outputs": [
        {
          "output_type": "error",
          "ename": "SyntaxError",
          "evalue": "ignored",
          "traceback": [
            "\u001b[0;36m  File \u001b[0;32m\"<ipython-input-50-15188d017733>\"\u001b[0;36m, line \u001b[0;32m28\u001b[0m\n\u001b[0;31m    ax.plot_surface(theta0_vals, theta1_vals,theta2_vals,theta3_vals,theta4_vals,theta5_vals, J_vals')\u001b[0m\n\u001b[0m                                                                                                      ^\u001b[0m\n\u001b[0;31mSyntaxError\u001b[0m\u001b[0;31m:\u001b[0m EOL while scanning string literal\n"
          ]
        }
      ],
      "source": [
        "# cuadrícula sobre la que se calcula J\n",
        "theta0_vals = np.linspace(-10, 10, 10)\n",
        "theta1_vals = np.linspace(-1, 4, 10)\n",
        "theta2_vals = np.linspace(-10, 10, 10)\n",
        "theta3_vals = np.linspace(-1, 4, 10)\n",
        "theta4_vals = np.linspace(-10, 10, 10)\n",
        "theta5_vals = np.linspace(-1, 4, 10)\n",
        "\n",
        "# inicializa J_vals con una matriz de 0's\n",
        "J_vals = np.zeros((theta0_vals.shape[0], theta1_vals.shape[0], theta2_vals.shape[0], theta3_vals.shape[0], theta4_vals.shape[0], theta5_vals.shape[0]))\n",
        "\n",
        "# Completar J_vals\n",
        "for i, theta0 in enumerate(theta0_vals):\n",
        "    for j, theta1 in enumerate(theta1_vals):\n",
        "      for j, theta2 in enumerate(theta2_vals):\n",
        "        for j, theta3 in enumerate(theta3_vals):\n",
        "          for j, theta4 in enumerate(theta4_vals):\n",
        "            for j, theta5 in enumerate(theta5_vals):\n",
        "               J_vals[i, j] = computeCost(X, y, [theta0, theta1,theta2, theta3,theta4, theta5])\n",
        "        \n",
        "# Debido a la forma en que funcionan las cuadrículas en el comando surf, \n",
        "# se necesita transponer J_vals antes de llamar a surf, o de lo contrario los ejes se invertirán\n",
        "J_vals = J_vals.T\n",
        "\n",
        "# graficar la superficie\n",
        "fig = pyplot.figure(figsize=(12, 5))\n",
        "ax = fig.add_subplot(121, projection='3d')\n",
        "ax.plot_surface(theta0_vals, theta1_vals,theta2_vals,theta3_vals,theta4_vals,theta5_vals, J_vals, cmap='viridis')\n",
        "pyplot.xlabel('theta0')\n",
        "pyplot.ylabel('theta1')\n",
        "pyplot.title('Surface')\n",
        "\n",
        "# graficar contornos\n",
        "# Grafica J_vals como 15 contours spaciados logaritmicamente entre 0.01 y 100\n",
        "ax = pyplot.subplot(122)\n",
        "pyplot.contour(theta0_vals, theta1_vals, J_vals, linewidths=2, cmap='viridis', levels=np.logspace(-2, 3, 20))\n",
        "pyplot.xlabel('theta0')\n",
        "pyplot.ylabel('theta1')\n",
        "pyplot.plot(theta[0], theta[1], 'ro', ms=10, lw=2)\n",
        "pyplot.title('Contorno, mostrando el minimo')\n",
        "pass"
      ]
    }
  ],
  "metadata": {
    "kernelspec": {
      "display_name": "Python 3 (ipykernel)",
      "language": "python",
      "name": "python3"
    },
    "language_info": {
      "codemirror_mode": {
        "name": "ipython",
        "version": 3
      },
      "file_extension": ".py",
      "mimetype": "text/x-python",
      "name": "python",
      "nbconvert_exporter": "python",
      "pygments_lexer": "ipython3",
      "version": "3.9.13"
    },
    "colab": {
      "provenance": []
    }
  },
  "nbformat": 4,
  "nbformat_minor": 0
}