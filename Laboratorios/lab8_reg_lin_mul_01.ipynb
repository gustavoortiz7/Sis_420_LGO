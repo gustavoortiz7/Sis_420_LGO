{
 "cells": [
  {
   "cell_type": "markdown",
   "metadata": {
    "id": "tfwOfkjclHQx"
   },
   "source": [
    "# Ejercicio de programación Regresión Lineal Multiple"
   ]
  },
  {
   "cell_type": "code",
   "execution_count": null,
   "metadata": {
    "id": "f0WGMMljlHQz"
   },
   "outputs": [],
   "source": [
    "# utilizado para manejos de directorios y rutas\n",
    "import os\n",
    "\n",
    "# Computacion vectorial y cientifica para python\n",
    "import numpy as np\n",
    "\n",
    "# Librerias para graficación (trazado de gráficos)\n",
    "from matplotlib import pyplot\n",
    "from mpl_toolkits.mplot3d import Axes3D  # Necesario para graficar superficies 3D\n",
    "\n",
    "# llama a matplotlib a embeber graficas dentro de los cuadernillos\n",
    "%matplotlib inline"
   ]
  },
  {
   "cell_type": "code",
   "execution_count": null,
   "metadata": {
    "colab": {
     "base_uri": "https://localhost:8080/"
    },
    "executionInfo": {
     "elapsed": 2931,
     "status": "ok",
     "timestamp": 1669618885958,
     "user": {
      "displayName": "Luis Gustavo Ortiz",
      "userId": "04793613206364033901"
     },
     "user_tz": 240
    },
    "id": "LhERtghFlVGr",
    "outputId": "7e7689c5-cd9c-4b56-9737-a6bd6c70e3cb"
   },
   "outputs": [
    {
     "name": "stdout",
     "output_type": "stream",
     "text": [
      "Drive already mounted at /content/gdrive; to attempt to forcibly remount, call drive.mount(\"/content/gdrive\", force_remount=True).\n"
     ]
    }
   ],
   "source": [
    "from google.colab import drive\n",
    "drive.mount(\"/content/gdrive\")"
   ]
  },
  {
   "cell_type": "markdown",
   "metadata": {
    "id": "G6-ykOwelHQ0"
   },
   "source": [
    "## 2 Regresión lineal con multiples variables\n",
    "\n",
    "Se implementa la regresion lineal multivariable para predecir el precio de las casas. El archivo `Datasets/ex1data2.txt` contiene un conjunto de entrenamiento de precios de casas en Portland, Oregon. La primera columna es el tamaño de la casa en metros cuadrados, la segunda columna es el numero de cuartos, y la tercera columna es el precio de la casa. \n",
    "\n",
    "<a id=\"section4\"></a>\n",
    "### 2.1 Normalización de caracteristicas\n",
    "\n",
    "Al visualizar los datos se puede observar que las caracteristicas tienen diferentes magnitudes, por lo cual se debe transformar cada valor en una escala de valores similares, esto con el fin de que el descenso por el gradiente pueda converger mas rapidamente."
   ]
  },
  {
   "cell_type": "code",
   "execution_count": null,
   "metadata": {
    "colab": {
     "base_uri": "https://localhost:8080/"
    },
    "executionInfo": {
     "elapsed": 286,
     "status": "ok",
     "timestamp": 1669618901811,
     "user": {
      "displayName": "Luis Gustavo Ortiz",
      "userId": "04793613206364033901"
     },
     "user_tz": 240
    },
    "id": "6BP5grkxlHQ0",
    "outputId": "234af296-4317-43ed-f26f-552ecc8e62a8"
   },
   "outputs": [
    {
     "name": "stdout",
     "output_type": "stream",
     "text": [
      "Los Valore cambiados\n",
      "  X[:,0] X[:, 1] X[:, 2] X[:, 3] X[:, 4]       y\n",
      "------------------------------------------------------------------\n",
      "       1      10       6       6      10       2\n",
      "       2      20       5       6      10       3\n",
      "       4      30       3       4       1       6\n",
      "       5      40       6       6       5       1\n",
      "       2      20       4       5      10       3\n",
      "       6      50       3       4       1       5\n",
      "       7      60       5       6       9       1\n",
      "       8      70       5       6       8       2\n",
      "      11      90       4       5       9       2\n",
      "      12     100       4       5      10       2\n",
      "      13      10       3       4       1       3\n",
      "       3      20       6       6      10       3\n",
      "      14      40       3       4       5       1\n",
      "      16      40       5       6      10       3\n",
      "      17     110       4       5       5       1\n",
      "       5      40       5       6       5       1\n",
      "      18      30       4       5       1       6\n",
      "      19     120       4       5       6      70\n",
      "       6      50       3       4       1       5\n",
      "      20     130       4       5      10       2\n"
     ]
    }
   ],
   "source": [
    "# Cargar datos\n",
    "import pandas as pd\n",
    "import numpy\n",
    "filename = '/content/gdrive/MyDrive/Colab Notebooks/SIS420/DataSet/House_Price_Multan_Modificado.csv'\n",
    "\n",
    "raw_data = open(filename)\n",
    "data = numpy.loadtxt(filename, delimiter=\",\", skiprows=1)\n",
    "df= pd.DataFrame(data)\n",
    "#display(df)\n",
    "first_column=df.pop(2)\n",
    "df.insert(5, 2, first_column)\n",
    "print(\"Los Valore cambiados\")\n",
    "#display(df)\n",
    "\n",
    "datos=pd.DataFrame(df)\n",
    "\n",
    "dat=datos.to_numpy()\n",
    "X, y = dat[:,:5], dat[:,5].ravel()\n",
    "# imprimir algunos puntos de datos\n",
    "print('{:>8s}{:>8s}{:>8s}{:>8s}{:>8s}{:>8s}'.format('X[:,0]', 'X[:, 1]', 'X[:, 2]','X[:, 3]', 'X[:, 4]','y'))\n",
    "print('-'*66)\n",
    "for i in range(20):\n",
    "   print('{:8.0f}{:8.0f}{:8.0f}{:8.0f}{:8.0f}{:8.0f}'.format(X[i, 0], X[i, 1], X[i, 2],X[i, 3],X[i, 4], y[i]))\n",
    "m = y.size"
   ]
  },
  {
   "cell_type": "markdown",
   "metadata": {
    "id": "7iU_3mwZlHQ1"
   },
   "source": [
    "La desviación estándar es una forma de medir cuánta variación hay en el rango de valores de una característica en particular (la mayoría de los puntos caeran en un rango de ± 2 en relación a la desviaciones estándar de la media); esta es una alternativa a tomar el rango de valores (max-min). En `numpy`, se puede usar la función `std` para calcular la desviacion estandar. \n",
    "\n",
    "Por ejemplo, la caracteristica`X[:, 0]` contiene todos los valores de $x_1$ (tamaño de las casas) en el conjunto de entrenamiento, entonces `np.std(X[:, 0])` calcula la desviacion estandar de los tamaños de las casas.\n",
    "En el momento en que se llama a la función `featureNormalize`, la columna adicional de unos correspondiente a $ x_0 = 1 $ aún no se ha agregado a $ X $. \n",
    "\n",
    "<div class=\"alert alert-block alert-warning\">\n",
    "**Notas para la implementación:** Cuando se normalize una caracteristica, es importante almacenar los valores usados para la normalización - el valor de la media y el valor de la desviación estandar usado para los calculos. Despues de aprender los parametros del modelo, se deseara predecir los precios de casas que no se han visto antes. Dado un nuevo valor de x (area del living room y el numero de dormitorios), primero se debe normalizar x usando la media y la desviacion estandar que se empleo anteriormente en el conjunto de entrenamiento para entrenar el modelo.\n",
    "</div>\n",
    "<a id=\"featureNormalize\"></a>"
   ]
  },
  {
   "cell_type": "code",
   "execution_count": null,
   "metadata": {
    "id": "7xFD8H3WlHQ1"
   },
   "outputs": [],
   "source": [
    "def  featureNormalize(X):\n",
    "    X_norm = X.copy()\n",
    "    mu = np.zeros(X.shape[1])\n",
    "    sigma = np.zeros(X.shape[1])\n",
    "\n",
    "    mu = np.mean(X, axis = 0)\n",
    "    sigma = np.std(X, axis = 0)\n",
    "    X_norm = (X - mu) / sigma\n",
    "    \n",
    "    return X_norm, mu, sigma"
   ]
  },
  {
   "cell_type": "code",
   "execution_count": null,
   "metadata": {
    "colab": {
     "base_uri": "https://localhost:8080/"
    },
    "executionInfo": {
     "elapsed": 283,
     "status": "ok",
     "timestamp": 1669618914363,
     "user": {
      "displayName": "Luis Gustavo Ortiz",
      "userId": "04793613206364033901"
     },
     "user_tz": 240
    },
    "id": "ipL_QsTZlHQ2",
    "outputId": "8af7d1d2-8b70-4856-80b4-102c8234058d"
   },
   "outputs": [
    {
     "name": "stdout",
     "output_type": "stream",
     "text": [
      "[[  1.  10.   6.   6.  10.]\n",
      " [  2.  20.   5.   6.  10.]\n",
      " [  4.  30.   3.   4.   1.]\n",
      " ...\n",
      " [ 13.  10.   5.   6.   1.]\n",
      " [ 21. 140.   2.   3.   5.]\n",
      " [ 14.  40.   5.   7.   5.]]\n",
      "Media calculada: [13.03389831 78.56430708  4.1884347   5.14157527  6.2447657 ]\n",
      "Desviación estandar calculada: [ 7.20479841 52.4241141   1.0573702   0.99645249  3.57259984]\n",
      "[[-1.67026163 -1.30787727  1.7132744   0.86148084  1.05112088]\n",
      " [-1.53146524 -1.11712536  0.76753185  0.86148084  1.05112088]\n",
      " [-1.25387246 -0.92637344 -1.12395327 -1.14563945 -1.46805294]\n",
      " ...\n",
      " [-0.00470496 -1.30787727  0.76753185  0.86148084 -1.46805294]\n",
      " [ 1.10566615  1.17189759 -2.06969583 -2.14919959 -0.34842013]\n",
      " [ 0.13409143 -0.73562153  0.76753185  1.86504098 -0.34842013]]\n"
     ]
    }
   ],
   "source": [
    "# llama featureNormalize con los datos cargados\n",
    "X_norm, mu, sigma = featureNormalize(X)\n",
    "\n",
    "print(X)\n",
    "print('Media calculada:', mu)\n",
    "print('Desviación estandar calculada:', sigma)\n",
    "print(X_norm)"
   ]
  },
  {
   "cell_type": "markdown",
   "metadata": {
    "id": "it9bMYuLlHQ2"
   },
   "source": [
    "Despues de `featureNormalize` la funcion es provada, se añade el temino de interseccion a `X_norm`:"
   ]
  },
  {
   "cell_type": "code",
   "execution_count": null,
   "metadata": {
    "id": "nNaGVxgolHQ2"
   },
   "outputs": [],
   "source": [
    "# Añade el termino de interseccion a X\n",
    "# (Columna de unos para X0)\n",
    "X = np.concatenate([np.ones((m, 1)), X_norm], axis=1)"
   ]
  },
  {
   "cell_type": "code",
   "execution_count": null,
   "metadata": {
    "colab": {
     "base_uri": "https://localhost:8080/"
    },
    "executionInfo": {
     "elapsed": 267,
     "status": "ok",
     "timestamp": 1669618925263,
     "user": {
      "displayName": "Luis Gustavo Ortiz",
      "userId": "04793613206364033901"
     },
     "user_tz": 240
    },
    "id": "nbUVohnhlHQ3",
    "outputId": "2ce5744f-7c6b-497c-84c7-4e633b15ca80"
   },
   "outputs": [
    {
     "name": "stdout",
     "output_type": "stream",
     "text": [
      "[[ 1.         -1.67026163 -1.30787727  1.7132744   0.86148084  1.05112088]\n",
      " [ 1.         -1.53146524 -1.11712536  0.76753185  0.86148084  1.05112088]\n",
      " [ 1.         -1.25387246 -0.92637344 -1.12395327 -1.14563945 -1.46805294]\n",
      " ...\n",
      " [ 1.         -0.00470496 -1.30787727  0.76753185  0.86148084 -1.46805294]\n",
      " [ 1.          1.10566615  1.17189759 -2.06969583 -2.14919959 -0.34842013]\n",
      " [ 1.          0.13409143 -0.73562153  0.76753185  1.86504098 -0.34842013]]\n"
     ]
    }
   ],
   "source": [
    "print(X)"
   ]
  },
  {
   "cell_type": "markdown",
   "metadata": {
    "id": "xzLiIE6NlHQ3"
   },
   "source": [
    "<a id=\"section5\"></a>\n",
    "### 2.2 Descenso por el gradiente\n",
    "\n",
    "En el ejemplo anterior se implemento el descenso por el gradiente para un problema de regresion univariable. La unica diferencia es que ahora existe una caracteristica adicional en la matriz $X$. La función de hipótesis y la regla de actualización del descenso del gradiente por lotes permanecen sin cambios.\n",
    "\n",
    "La implementacion de las funciones `computeCostMulti` y `gradientDescentMulti` son similares a la funcion de costo y función de descenso por el gradiente de la regresión lineal multiple es similar al de la regresion lineal multivariable. Es importante garantizar que el codigo soporte cualquier numero de caracteristicas y esten bien vectorizadas.\n",
    "\n",
    "Se puede utilizar `shape`, propiedad de los arrays `numpy`, para identificar cuantas caracteristicas estan consideradas en el dataset.\n",
    "\n",
    "<div class=\"alert alert-block alert-warning\">\n",
    "**Nota de implementación:** En el caso de multivariables, la función de costo puede se escrita considerando la forma vectorizada de la siguiente manera:\n",
    "\n",
    "$$ J(\\theta) = \\frac{1}{2m}(X\\theta - \\vec{y})^T(X\\theta - \\vec{y}) $$\n",
    "\n",
    "donde:\n",
    "\n",
    "$$ X = \\begin{pmatrix}\n",
    "          - (x^{(1)})^T - \\\\\n",
    "          - (x^{(2)})^T - \\\\\n",
    "          \\vdots \\\\\n",
    "          - (x^{(m)})^T - \\\\ \\\\\n",
    "        \\end{pmatrix} \\qquad \\mathbf{y} = \\begin{bmatrix} y^{(1)} \\\\ y^{(2)} \\\\ \\vdots \\\\ y^{(m)} \\\\\\end{bmatrix}$$\n",
    "\n",
    "La version vectorizada es eficiente cuando se trabaja con herramientas de calculo numericos computacional como `numpy`. \n",
    "</div>\n",
    "\n",
    "<a id=\"computeCostMulti\"></a>"
   ]
  },
  {
   "cell_type": "code",
   "execution_count": null,
   "metadata": {
    "id": "EQCMN7KqlHQ3"
   },
   "outputs": [],
   "source": [
    "def computeCostMulti(X, y, theta):\n",
    "    # Inicializa algunos valores utiles\n",
    "    m = y.shape[0] # numero de ejemplos de entrenamiento\n",
    "    \n",
    "    J = 0\n",
    "    \n",
    "    h = np.dot(X, theta)\n",
    "    \n",
    "    J = (1/(2 * m)) * np.sum(np.square(np.dot(X, theta) - y))\n",
    "    \n",
    "    return J\n"
   ]
  },
  {
   "cell_type": "code",
   "execution_count": null,
   "metadata": {
    "id": "Vdy_aQUklHQ4"
   },
   "outputs": [],
   "source": [
    "def gradientDescentMulti(X, y, theta, alpha, num_iters):\n",
    "    \n",
    "    # Inicializa algunos valores \n",
    "    m = y.shape[0] # numero de ejemplos de entrenamiento\n",
    "    \n",
    "    # realiza una copia de theta, el cual será acutalizada por el descenso por el gradiente\n",
    "    theta = theta.copy()\n",
    "    \n",
    "    J_history = []\n",
    "    \n",
    "    for i in range(num_iters):\n",
    "        theta = theta - (alpha / m) * (np.dot(X, theta) - y).dot(X)\n",
    "        J_history.append(computeCostMulti(X, y, theta))\n",
    "    \n",
    "    return theta, J_history"
   ]
  },
  {
   "cell_type": "markdown",
   "metadata": {
    "id": "a8b_GwZslHQ4"
   },
   "source": [
    "#### 3.2.1 Seleccionando coheficientes de aprendizaje\n"
   ]
  },
  {
   "cell_type": "code",
   "execution_count": null,
   "metadata": {
    "colab": {
     "base_uri": "https://localhost:8080/",
     "height": 314
    },
    "executionInfo": {
     "elapsed": 4783,
     "status": "ok",
     "timestamp": 1669619256172,
     "user": {
      "displayName": "Luis Gustavo Ortiz",
      "userId": "04793613206364033901"
     },
     "user_tz": 240
    },
    "id": "sId0DiH9lHQ4",
    "outputId": "3d47c6dc-ad8d-4079-c112-dad62a2c5ec4"
   },
   "outputs": [
    {
     "name": "stdout",
     "output_type": "stream",
     "text": [
      "theta calculado por el descenso por el gradiente: [ 5.40812562  1.01177877  1.45066675  0.01134102  0.09263374 -1.04694203]\n",
      "El precio para una casa localizada en 10 y tiene  3 dormitorios (usando el descenso por el gradiente): $1\n"
     ]
    },
    {
     "data": {
      "image/png": "[encoded data removed]",
      "text/plain": [
       "<Figure size 432x288 with 1 Axes>"
      ]
     },
     "metadata": {
      "needs_background": "light"
     },
     "output_type": "display_data"
    }
   ],
   "source": [
    "# Elegir algun valor para alpha (probar varias alternativas)\n",
    "alpha = 0.001 # alpha = 0.003\n",
    "num_iters = 150000\n",
    "\n",
    "# inicializa theta y ejecuta el descenso por el gradiente\n",
    "theta = np.zeros(6)\n",
    "theta, J_history = gradientDescentMulti(X, y, theta, alpha, num_iters)\n",
    "\n",
    "# Grafica la convergencia del costo\n",
    "pyplot.plot(np.arange(len(J_history)), J_history, lw=2)\n",
    "pyplot.xlabel('Numero de iteraciones')\n",
    "pyplot.ylabel('Costo J')\n",
    "\n",
    "# Muestra los resultados del descenso por el gradiente\n",
    "print('theta calculado por el descenso por el gradiente: {:s}'.format(str(theta)))\n",
    "\n",
    "# El precio para una casa localizada en 10 y tiene  6 camas y 6 baños en un are de 10\n",
    "X_array = [1, 1,10, 6,6,10]\n",
    "X_array[1:6] = (X_array[1:6] - mu) / sigma\n",
    "price = np.dot(X_array, theta)   # Se debe cambiar esto\n",
    "\n",
    "print('El precio para una casa localizada en 10 y tiene  3 dormitorios (usando el descenso por el gradiente): ${:.0f}'.format(price))"
   ]
  },
  {
   "cell_type": "code",
   "execution_count": null,
   "metadata": {
    "id": "y0aZhWEqlHQ4"
   },
   "outputs": [],
   "source": [
    "X_array = [1, 1,10, 6,6,10]\n",
    "X_array[1:6] = (X_array[1:6] - mu) / sigma"
   ]
  },
  {
   "cell_type": "code",
   "execution_count": null,
   "metadata": {
    "colab": {
     "base_uri": "https://localhost:8080/"
    },
    "executionInfo": {
     "elapsed": 271,
     "status": "ok",
     "timestamp": 1669619270522,
     "user": {
      "displayName": "Luis Gustavo Ortiz",
      "userId": "04793613206364033901"
     },
     "user_tz": 240
    },
    "id": "KZ4G9CbJlHQ4",
    "outputId": "2c3b8f79-df29-45d5-c5da-1fbe330763ee"
   },
   "outputs": [
    {
     "data": {
      "text/plain": [
       "[-1.6702616261993117,\n",
       " -1.3078772671367904,\n",
       " 1.713274402954103,\n",
       " 0.8614808405009489,\n",
       " 1.0511208828642509]"
      ]
     },
     "execution_count": 310,
     "metadata": {},
     "output_type": "execute_result"
    }
   ],
   "source": [
    "X_array[1:6]"
   ]
  },
  {
   "cell_type": "markdown",
   "metadata": {
    "id": "-nMzqD8elHQ4"
   },
   "source": [
    "<a id=\"section7\"></a>\n",
    "### 2.3 Ecuacion de la Normal\n",
    "\n",
    "Una manera de calcular rapidamente el modelo de una regresion lineal es:\n",
    "\n",
    "$$ \\theta = \\left( X^T X\\right)^{-1} X^T\\vec{y}$$\n",
    "\n",
    "Utilizando esta formula no requiere que se escale ninguna caracteristica, y se obtendra una solucion exacta con un solo calculo: no hay “bucles de convergencia” como en el descenso por el gradiente. \n",
    "\n",
    "Primero se recargan los datos para garantizar que las variables no esten modificadas. Recordar que no es necesario escalar las caracteristicas, se debe agregar la columna de unos a la matriz $X$ para tener el termino de intersección($\\theta_0$). "
   ]
  },
  {
   "cell_type": "code",
   "execution_count": null,
   "metadata": {
    "colab": {
     "base_uri": "https://localhost:8080/"
    },
    "executionInfo": {
     "elapsed": 380,
     "status": "ok",
     "timestamp": 1669619274481,
     "user": {
      "displayName": "Luis Gustavo Ortiz",
      "userId": "04793613206364033901"
     },
     "user_tz": 240
    },
    "id": "C6j77JNmlHQ5",
    "outputId": "7f5f0628-6719-4485-8194-6e20139ef1fe"
   },
   "outputs": [
    {
     "name": "stdout",
     "output_type": "stream",
     "text": [
      "Los Valore cambiados\n"
     ]
    }
   ],
   "source": [
    "# Cargar datos\n",
    "import pandas as pd\n",
    "import numpy\n",
    "filename = '/content/gdrive/MyDrive/Colab Notebooks/SIS420/DataSet/House_Price_Multan_Modificado.csv'\n",
    "\n",
    "raw_data = open(filename)\n",
    "data = numpy.loadtxt(filename, delimiter=\",\", skiprows=1)\n",
    "df= pd.DataFrame(data)\n",
    "#display(df)\n",
    "first_column=df.pop(2)\n",
    "df.insert(5, 2, first_column)\n",
    "print(\"Los Valore cambiados\")\n",
    "#display(df)\n",
    "\n",
    "datos=pd.DataFrame(df)\n",
    "\n",
    "dat=datos.to_numpy()\n",
    "X, y = dat[:,:5], dat[:,5].ravel()\n",
    "m = y.size\n",
    "X = np.concatenate([np.ones((m, 1)), X], axis=1)"
   ]
  },
  {
   "cell_type": "code",
   "execution_count": null,
   "metadata": {
    "id": "gVZdjjk9lHQ5"
   },
   "outputs": [],
   "source": [
    "def normalEqn(X, y):\n",
    "  \n",
    "    theta = np.zeros(X.shape[1])\n",
    "    \n",
    "    theta = np.dot(np.dot(np.linalg.inv(np.dot(X.T,X)),X.T),y)\n",
    "    \n",
    "    return theta"
   ]
  },
  {
   "cell_type": "code",
   "execution_count": null,
   "metadata": {
    "colab": {
     "base_uri": "https://localhost:8080/"
    },
    "executionInfo": {
     "elapsed": 413,
     "status": "ok",
     "timestamp": 1669619323945,
     "user": {
      "displayName": "Luis Gustavo Ortiz",
      "userId": "04793613206364033901"
     },
     "user_tz": 240
    },
    "id": "Ybyw-FfolHQ5",
    "outputId": "e0a36d86-d081-40bc-e3f0-52b5e0cf3d84"
   },
   "outputs": [
    {
     "name": "stdout",
     "output_type": "stream",
     "text": [
      "Theta calculado a partir de la ecuación de la normal: [ 2.71085623  0.14043124  0.02767175  0.01072369  0.09296564 -0.29304766]\n",
      "El precio para una casa localizada en 10 y tiene  6 camas y 6 baños en un are de 10(usando la ecuación de la normal): $3\n"
     ]
    }
   ],
   "source": [
    "# Calcula los parametros con la ecuación de la normal\n",
    "theta = normalEqn(X, y);\n",
    "\n",
    "# Muestra los resultados optenidos a partir de la aplicación de la ecuación de la normal\n",
    "print('Theta calculado a partir de la ecuación de la normal: {:s}'.format(str(theta)));\n",
    "\n",
    "# El precio para una casa localizada en 10 y tiene  6 camas y 6 baños en un are de 10\n",
    "\n",
    "X_array = [1, 1,20, 6,6,5]\n",
    "price = np.dot(X_array, theta) \n",
    "print('El precio para una casa localizada en 10 y tiene  6 camas y 6 baños en un are de 10(usando la ecuación de la normal): ${:.0f}'.format(price))"
   ]
  },
  {
   "cell_type": "code",
   "execution_count": null,
   "metadata": {
    "id": "jI47oxFJAVST"
   },
   "outputs": [],
   "source": []
  }
 ],
 "metadata": {
  "colab": {
   "provenance": [
    {
     "file_id": "1vmzeQaa5aePBLT5g1T_Gg9CbCrezaii3",
     "timestamp": 1669619356807
    }
   ]
  },
  "kernelspec": {
   "display_name": "Python 3 (ipykernel)",
   "language": "python",
   "name": "python3"
  },
  "language_info": {
   "codemirror_mode": {
    "name": "ipython",
    "version": 3
   },
   "file_extension": ".py",
   "mimetype": "text/x-python",
   "name": "python",
   "nbconvert_exporter": "python",
   "pygments_lexer": "ipython3",
   "version": "3.9.12"
  }
 },
 "nbformat": 4,
 "nbformat_minor": 1
}
