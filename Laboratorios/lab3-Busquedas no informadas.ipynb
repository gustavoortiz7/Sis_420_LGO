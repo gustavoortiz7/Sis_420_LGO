{
 "cells": [
  {
   "cell_type": "code",
   "execution_count": 16,
   "id": "d0e4e268",
   "metadata": {},
   "outputs": [],
   "source": [
    "# datos = estado\n",
    "class Nodo:\n",
    "    def __init__(self, datos, hijo=None):\n",
    "        self.datos = datos\n",
    "        self.hijos = []\n",
    "        self.padre = None\n",
    "        self.costo = None\n",
    "        self.set_hijo(hijo)\n",
    "        \n",
    "    def set_hijo(self, hijo):\n",
    "        if (hijo is not None):\n",
    "            self.hijos.append(hijo)\n",
    "            if self.hijos is not None:\n",
    "                for h in self.hijos:\n",
    "                    h.padre = self\n",
    "                \n",
    "    def get_hijos(self):\n",
    "        return self.hijos\n",
    "    \n",
    "    def set_padre(self, padre):\n",
    "        self.padre = padre\n",
    "        \n",
    "    def get_padre(self):\n",
    "        return self.padre\n",
    "\n",
    "    def set_datos(self, datos):\n",
    "        self.datos = datos\n",
    "    \n",
    "    def get_datos(self):\n",
    "        return self.datos\n",
    "    \n",
    "    def set_costo(self, costo):\n",
    "        self.costo = costo\n",
    "        \n",
    "    def get_costo(self):\n",
    "        return self.costo\n",
    "    \n",
    "    def equal(self, nodo):\n",
    "        if self.get_datos() == nodo.get_datos():\n",
    "            return True\n",
    "        else:\n",
    "            return False\n",
    "    \n",
    "    def en_lista(self, lista_nodos):\n",
    "        enlistado = False\n",
    "        for n in lista_nodos:\n",
    "            if self.equal(n):\n",
    "                enlistado = True\n",
    "        return enlistado\n",
    "    \n",
    "    def __str__(self):\n",
    "        return str(self.get_datos())"
   ]
  },
  {
   "cell_type": "code",
   "execution_count": 17,
   "id": "a679e621",
   "metadata": {},
   "outputs": [],
   "source": [
    "def bpa(estado_inicio, estado_solucion):\n",
    "    resuelto = False\n",
    "    nodos_visitados = []\n",
    "    nodos_frontera = []\n",
    "    nodo_inicio = Nodo(estado_inicio)\n",
    "    nodos_frontera.append(nodo_inicio)\n",
    "    \n",
    "    while resuelto == False and len(nodos_frontera) != 0:\n",
    "        #nodo_actual = nodos_frontera.pop(0)#COLA\n",
    "\n",
    "        nodo_actual = nodos_frontera.pop()#PILA\n",
    "        nodos_visitados.append(nodo_actual)\n",
    "        if nodo_actual.get_datos() == estado_solucion:\n",
    "            resuelto = True\n",
    "            return nodo_actual\n",
    "        else:\n",
    "            for i in range (len(estado_inicio)-1):\n",
    "                hijo1_datos = nodo_actual.get_datos().copy()\n",
    "                temp = hijo1_datos[i]\n",
    "                hijo1_datos[i] = hijo1_datos[i+1]\n",
    "                hijo1_datos[i+1] = temp\n",
    "                hijo1 = Nodo(hijo1_datos)\n",
    "            \n",
    "                if not hijo1.en_lista(nodos_visitados) and not hijo1.en_lista(nodos_frontera):\n",
    "                    nodo_actual.set_hijo(hijo1)\n",
    "                    nodos_frontera.append(hijo1)\n",
    "                        "
   ]
  },
  {
   "cell_type": "code",
   "execution_count": 18,
   "id": "ae74c57e",
   "metadata": {},
   "outputs": [
    {
     "name": "stdout",
     "output_type": "stream",
     "text": [
      "Tiempo de ejecucion :  59.7389874458313 seg. \n",
      "\n",
      "[[7, 6, 5, 4, 3, 2, 1], [7, 6, 5, 4, 3, 1, 2], [7, 6, 5, 4, 1, 3, 2], [7, 6, 5, 4, 1, 2, 3], [7, 6, 5, 4, 2, 1, 3], [7, 6, 5, 2, 4, 1, 3], [7, 6, 5, 2, 4, 3, 1], [7, 6, 5, 2, 3, 4, 1], [7, 6, 5, 2, 3, 1, 4], [7, 6, 5, 2, 1, 3, 4], [7, 6, 5, 1, 2, 3, 4], [7, 6, 5, 1, 2, 4, 3], [7, 6, 1, 5, 2, 4, 3], [7, 6, 1, 5, 4, 2, 3], [7, 6, 1, 5, 4, 3, 2], [7, 6, 1, 5, 3, 4, 2], [7, 6, 1, 5, 3, 2, 4], [7, 6, 1, 3, 5, 2, 4], [7, 6, 1, 3, 2, 5, 4], [7, 6, 1, 3, 2, 4, 5], [7, 6, 1, 3, 4, 2, 5], [7, 6, 1, 3, 4, 5, 2], [7, 6, 1, 4, 3, 5, 2], [7, 6, 4, 1, 3, 5, 2], [7, 6, 4, 1, 3, 2, 5], [7, 6, 4, 1, 2, 3, 5], [7, 6, 4, 1, 2, 5, 3], [7, 6, 4, 1, 5, 2, 3], [7, 4, 6, 1, 5, 2, 3], [7, 4, 6, 1, 5, 3, 2], [7, 4, 6, 5, 1, 3, 2], [7, 4, 6, 5, 3, 1, 2], [7, 4, 6, 5, 3, 2, 1], [7, 4, 6, 5, 2, 3, 1], [7, 4, 6, 5, 2, 1, 3], [7, 4, 6, 2, 5, 1, 3], [7, 4, 6, 2, 1, 5, 3], [7, 4, 6, 2, 1, 3, 5], [7, 4, 6, 2, 3, 1, 5], [7, 4, 6, 2, 3, 5, 1], [7, 4, 6, 3, 2, 5, 1], [7, 4, 3, 6, 2, 5, 1], [7, 4, 3, 6, 2, 1, 5], [7, 4, 3, 6, 1, 2, 5], [7, 4, 3, 6, 1, 5, 2], [7, 4, 3, 6, 5, 1, 2], [7, 4, 3, 5, 6, 1, 2], [7, 4, 3, 5, 6, 2, 1], [7, 4, 3, 5, 2, 6, 1], [7, 4, 3, 5, 2, 1, 6], [7, 4, 3, 5, 1, 2, 6], [7, 4, 3, 1, 5, 2, 6], [7, 4, 3, 1, 5, 6, 2], [7, 4, 1, 3, 5, 6, 2], [7, 4, 1, 3, 6, 5, 2], [7, 4, 1, 3, 6, 2, 5], [7, 4, 1, 3, 2, 6, 5], [7, 4, 1, 3, 2, 5, 6], [7, 4, 1, 2, 3, 5, 6], [7, 4, 1, 2, 5, 3, 6], [7, 4, 1, 2, 5, 6, 3], [7, 4, 1, 2, 6, 5, 3], [7, 4, 1, 2, 6, 3, 5], [7, 4, 1, 6, 2, 3, 5], [7, 1, 4, 6, 2, 3, 5], [7, 1, 4, 6, 2, 5, 3], [7, 1, 4, 6, 5, 2, 3], [7, 1, 4, 6, 5, 3, 2], [7, 1, 4, 6, 3, 5, 2], [1, 7, 4, 6, 3, 5, 2], [1, 7, 4, 6, 3, 2, 5], [1, 7, 4, 3, 6, 2, 5], [1, 7, 4, 3, 2, 6, 5], [1, 7, 4, 3, 2, 5, 6], [1, 7, 4, 3, 5, 2, 6], [1, 7, 4, 3, 5, 6, 2], [1, 7, 4, 5, 3, 6, 2], [1, 7, 4, 5, 6, 3, 2], [1, 7, 4, 5, 6, 2, 3], [1, 7, 4, 5, 2, 6, 3], [1, 7, 4, 5, 2, 3, 6], [1, 7, 4, 2, 5, 3, 6], [1, 7, 2, 4, 5, 3, 6], [1, 7, 2, 4, 5, 6, 3], [1, 7, 2, 4, 6, 5, 3], [1, 7, 2, 4, 6, 3, 5], [1, 7, 2, 4, 3, 6, 5], [1, 7, 2, 3, 4, 6, 5], [1, 7, 2, 3, 4, 5, 6], [1, 7, 2, 3, 5, 4, 6], [1, 7, 2, 3, 5, 6, 4], [1, 7, 2, 3, 6, 5, 4], [1, 7, 2, 6, 3, 5, 4], [1, 7, 2, 6, 3, 4, 5], [1, 7, 6, 2, 3, 4, 5], [1, 7, 6, 2, 4, 3, 5], [1, 7, 6, 2, 4, 5, 3], [1, 7, 6, 2, 5, 4, 3], [1, 7, 6, 2, 5, 3, 4], [1, 7, 6, 5, 2, 3, 4], [1, 7, 6, 5, 3, 2, 4], [1, 7, 6, 5, 3, 4, 2], [1, 7, 6, 5, 4, 3, 2], [1, 7, 6, 5, 4, 2, 3], [1, 7, 6, 4, 5, 2, 3], [1, 6, 7, 4, 5, 2, 3], [1, 6, 7, 4, 5, 3, 2], [1, 6, 7, 4, 3, 5, 2], [1, 6, 7, 4, 3, 2, 5], [1, 6, 7, 4, 2, 3, 5], [1, 6, 4, 7, 2, 3, 5], [1, 6, 4, 7, 2, 5, 3], [1, 6, 4, 2, 7, 5, 3], [1, 6, 4, 2, 5, 7, 3], [1, 6, 4, 2, 5, 3, 7], [1, 6, 4, 2, 3, 5, 7], [1, 6, 4, 2, 3, 7, 5], [1, 6, 4, 3, 2, 7, 5], [1, 6, 4, 3, 7, 2, 5], [1, 6, 4, 3, 7, 5, 2], [1, 6, 4, 3, 5, 7, 2], [1, 6, 4, 3, 5, 2, 7], [1, 6, 4, 5, 3, 2, 7], [1, 6, 5, 4, 3, 2, 7], [1, 6, 5, 4, 3, 7, 2], [1, 6, 5, 4, 7, 3, 2], [1, 6, 5, 4, 7, 2, 3], [1, 6, 5, 4, 2, 7, 3], [1, 6, 5, 2, 4, 7, 3], [1, 6, 5, 2, 4, 3, 7], [1, 6, 5, 2, 3, 4, 7], [1, 6, 5, 2, 3, 7, 4], [1, 6, 5, 2, 7, 3, 4], [1, 6, 5, 7, 2, 3, 4], [1, 6, 5, 7, 2, 4, 3], [1, 6, 7, 5, 2, 4, 3], [6, 1, 7, 5, 2, 4, 3], [6, 1, 7, 5, 2, 3, 4], [6, 1, 7, 5, 3, 2, 4], [6, 1, 7, 5, 3, 4, 2], [6, 1, 7, 5, 4, 3, 2], [6, 1, 5, 7, 4, 3, 2], [6, 1, 5, 7, 4, 2, 3], [6, 5, 1, 7, 4, 2, 3], [6, 5, 1, 7, 2, 4, 3], [6, 5, 1, 7, 2, 3, 4], [6, 5, 1, 7, 3, 2, 4], [6, 5, 1, 7, 3, 4, 2], [6, 5, 1, 3, 7, 4, 2], [6, 5, 1, 3, 4, 7, 2], [6, 5, 1, 3, 4, 2, 7], [6, 5, 1, 3, 2, 4, 7], [6, 5, 1, 3, 2, 7, 4], [6, 5, 1, 2, 3, 7, 4], [6, 5, 2, 1, 3, 7, 4], [6, 5, 2, 1, 3, 4, 7], [6, 5, 2, 1, 4, 3, 7], [6, 5, 2, 1, 4, 7, 3], [6, 5, 2, 1, 7, 4, 3], [6, 5, 2, 7, 1, 4, 3], [6, 5, 2, 7, 1, 3, 4], [6, 5, 2, 7, 3, 1, 4], [6, 5, 2, 7, 3, 4, 1], [6, 5, 2, 7, 4, 3, 1], [6, 5, 2, 4, 7, 3, 1], [6, 5, 2, 4, 7, 1, 3], [6, 5, 4, 2, 7, 1, 3], [6, 5, 4, 2, 1, 7, 3], [6, 5, 4, 2, 1, 3, 7], [6, 5, 4, 2, 3, 1, 7], [6, 5, 4, 2, 3, 7, 1], [6, 5, 4, 3, 2, 7, 1], [6, 5, 4, 3, 7, 2, 1], [6, 5, 4, 3, 7, 1, 2], [6, 5, 4, 3, 1, 7, 2], [6, 5, 4, 3, 1, 2, 7], [6, 5, 4, 1, 3, 2, 7], [6, 4, 5, 1, 3, 2, 7], [6, 4, 5, 1, 3, 7, 2], [6, 4, 5, 1, 7, 3, 2], [6, 4, 5, 1, 7, 2, 3], [6, 4, 5, 1, 2, 7, 3], [6, 4, 1, 5, 2, 7, 3], [6, 4, 1, 5, 2, 3, 7], [6, 4, 1, 2, 5, 3, 7], [6, 4, 1, 2, 3, 5, 7], [6, 4, 1, 2, 3, 7, 5], [6, 4, 1, 2, 7, 3, 5], [6, 4, 1, 2, 7, 5, 3], [6, 4, 1, 7, 2, 5, 3], [6, 4, 1, 7, 5, 2, 3], [6, 4, 1, 7, 5, 3, 2], [6, 4, 1, 7, 3, 5, 2], [6, 4, 1, 7, 3, 2, 5], [6, 4, 1, 3, 7, 2, 5], [6, 4, 3, 1, 7, 2, 5], [6, 4, 3, 1, 7, 5, 2], [6, 4, 3, 1, 5, 7, 2], [6, 4, 3, 1, 5, 2, 7], [6, 4, 3, 1, 2, 5, 7], [6, 4, 3, 2, 1, 5, 7], [6, 4, 3, 2, 1, 7, 5], [6, 4, 3, 2, 7, 1, 5], [6, 4, 3, 2, 7, 5, 1], [6, 4, 3, 2, 5, 7, 1], [6, 4, 3, 5, 2, 7, 1], [6, 4, 3, 5, 2, 1, 7], [6, 4, 5, 3, 2, 1, 7], [4, 6, 5, 3, 2, 1, 7], [4, 6, 5, 3, 2, 7, 1], [4, 6, 5, 3, 7, 2, 1], [4, 6, 5, 3, 7, 1, 2], [4, 6, 5, 3, 1, 7, 2], [4, 6, 3, 5, 1, 7, 2], [4, 6, 3, 5, 1, 2, 7], [4, 3, 6, 5, 1, 2, 7], [4, 3, 6, 5, 2, 1, 7], [4, 3, 6, 5, 2, 7, 1], [4, 3, 6, 5, 7, 2, 1], [4, 3, 6, 5, 7, 1, 2], [4, 3, 6, 7, 5, 1, 2], [4, 3, 6, 7, 1, 5, 2], [4, 3, 6, 7, 1, 2, 5], [4, 3, 6, 7, 2, 1, 5], [4, 3, 6, 7, 2, 5, 1], [4, 3, 6, 2, 7, 5, 1], [4, 3, 2, 6, 7, 5, 1], [4, 3, 2, 6, 7, 1, 5], [4, 3, 2, 6, 1, 7, 5], [4, 3, 2, 6, 1, 5, 7], [4, 3, 2, 6, 5, 1, 7], [4, 3, 2, 5, 6, 1, 7], [4, 3, 2, 5, 6, 7, 1], [4, 3, 2, 5, 7, 6, 1], [4, 3, 2, 5, 7, 1, 6], [4, 3, 2, 5, 1, 7, 6], [4, 3, 2, 1, 5, 7, 6], [4, 3, 2, 1, 5, 6, 7], [4, 3, 1, 2, 5, 6, 7], [4, 3, 1, 2, 6, 5, 7], [4, 3, 1, 2, 6, 7, 5], [4, 3, 1, 2, 7, 6, 5], [4, 3, 1, 2, 7, 5, 6], [4, 3, 1, 7, 2, 5, 6], [4, 3, 1, 7, 5, 2, 6], [4, 3, 1, 7, 5, 6, 2], [4, 3, 1, 7, 6, 5, 2], [4, 3, 1, 7, 6, 2, 5], [4, 3, 1, 6, 7, 2, 5], [4, 1, 3, 6, 7, 2, 5], [4, 1, 3, 6, 7, 5, 2], [4, 1, 3, 6, 5, 7, 2], [4, 1, 3, 6, 5, 2, 7], [4, 1, 3, 6, 2, 5, 7], [4, 1, 6, 3, 2, 5, 7], [4, 1, 6, 3, 2, 7, 5], [4, 1, 6, 2, 3, 7, 5], [4, 1, 6, 2, 7, 3, 5], [4, 1, 6, 2, 7, 5, 3], [4, 1, 6, 2, 5, 7, 3], [4, 1, 6, 2, 5, 3, 7], [4, 1, 6, 5, 2, 3, 7], [4, 1, 6, 5, 3, 2, 7], [4, 1, 6, 5, 3, 7, 2], [4, 1, 6, 5, 7, 3, 2], [4, 1, 6, 5, 7, 2, 3], [4, 1, 6, 7, 5, 2, 3], [4, 1, 7, 6, 5, 2, 3], [4, 1, 7, 6, 5, 3, 2], [4, 1, 7, 6, 3, 5, 2], [4, 1, 7, 6, 3, 2, 5], [4, 1, 7, 6, 2, 3, 5], [4, 1, 7, 2, 6, 3, 5], [4, 1, 7, 2, 6, 5, 3], [4, 1, 7, 2, 5, 6, 3], [4, 1, 7, 2, 5, 3, 6], [4, 1, 7, 2, 3, 5, 6], [4, 1, 7, 3, 2, 5, 6], [4, 1, 7, 3, 2, 6, 5], [4, 1, 3, 7, 2, 6, 5], [1, 4, 3, 7, 2, 6, 5], [1, 4, 3, 7, 2, 5, 6], [1, 4, 3, 7, 5, 2, 6], [1, 4, 3, 7, 5, 6, 2], [1, 4, 3, 7, 6, 5, 2], [1, 3, 4, 7, 6, 5, 2], [1, 3, 4, 7, 6, 2, 5], [1, 3, 4, 6, 7, 2, 5], [1, 3, 4, 6, 2, 7, 5], [1, 3, 4, 6, 2, 5, 7], [1, 3, 4, 6, 5, 2, 7], [1, 3, 4, 6, 5, 7, 2], [1, 3, 4, 5, 6, 7, 2], [1, 3, 4, 5, 7, 6, 2], [1, 3, 4, 5, 7, 2, 6], [1, 3, 4, 5, 2, 7, 6], [1, 3, 4, 5, 2, 6, 7], [1, 3, 4, 2, 5, 6, 7], [1, 3, 2, 4, 5, 6, 7], [1, 2, 3, 4, 5, 6, 7]]\n"
     ]
    }
   ],
   "source": [
    "import time\n",
    "if __name__ == \"__main__\":\n",
    "    estado_inicial = [7,6,5,4, 3, 2, 1]\n",
    "    solucion = [1, 2, 3, 4,5,6,7]\n",
    "\n",
    "    start = time.time()\n",
    "\n",
    "    nodo_solucion = bpa(estado_inicial, solucion)\n",
    "    end =time.time()\n",
    "    print('Tiempo de ejecucion : ',end-start, 'seg.','\\n')\n",
    "    # mostrar resultado\n",
    "    resultado = []\n",
    "    nodo_actual = nodo_solucion\n",
    "    while nodo_actual.get_padre() is not None:\n",
    "        resultado.append(nodo_actual.get_datos())\n",
    "        nodo_actual = nodo_actual.get_padre()\n",
    "\n",
    "    resultado.append(estado_inicial)\n",
    "    resultado.reverse()\n",
    "    print(resultado)\n",
    "\n",
    "    #COLA\n",
    "    # lo maximo que pudiera hacer correr mi compu seria de 8 dijitos pero tardaria muchas horas talves hasta dias,el limite se debe \n",
    "    #a que  no alcanza mi memoria  de mi pc para hacer o crear todos esos iteraciones o nodos hijos para encontrar la solucion,\n",
    "    #todo eso tomando en cuenta que \n",
    "    #la prueba con 7 digitos nos muestra la solucion al rededor de 1 minuto o menos \n",
    "    #la solucion para hacer de mas digitos  seria tener una buena pc con una buena memoria y para que sea rapido seria hacer con otro tipo de busqueda (busquedas informadas)\n",
    "\n",
    "    #PILA\n",
    "    #para la pila seria casi el mismo problerma ,\n",
    "    #solo que en este caso hace o crea mas nodos hijos hasta encontrar la solucion "
   ]
  },
  {
   "cell_type": "code",
   "execution_count": null,
   "id": "dbe6be16",
   "metadata": {},
   "outputs": [],
   "source": []
  }
 ],
 "metadata": {
  "kernelspec": {
   "display_name": "Python 3.9.5 64-bit",
   "language": "python",
   "name": "python3"
  },
  "language_info": {
   "codemirror_mode": {
    "name": "ipython",
    "version": 3
   },
   "file_extension": ".py",
   "mimetype": "text/x-python",
   "name": "python",
   "nbconvert_exporter": "python",
   "pygments_lexer": "ipython3",
   "version": "3.9.5"
  },
  "vscode": {
   "interpreter": {
    "hash": "c347c8f9a7ef94e4c9e03b4513be7835ed18f45b99a2a817fb579f408b867b16"
   }
  }
 },
 "nbformat": 4,
 "nbformat_minor": 5
}
